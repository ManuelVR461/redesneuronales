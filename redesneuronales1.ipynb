{
  "nbformat": 4,
  "nbformat_minor": 0,
  "metadata": {
    "colab": {
      "name": "redesneuronales1.ipynb",
      "provenance": [],
      "collapsed_sections": [],
      "authorship_tag": "ABX9TyMAO3NxlHySVB89EIZeJmHD",
      "include_colab_link": true
    },
    "kernelspec": {
      "name": "python3",
      "display_name": "Python 3"
    }
  },
  "cells": [
    {
      "cell_type": "markdown",
      "metadata": {
        "id": "view-in-github",
        "colab_type": "text"
      },
      "source": [
        "<a href=\"https://colab.research.google.com/github/ManuelVR461/redesneuronales/blob/master/redesneuronales1.ipynb\" target=\"_parent\"><img src=\"https://colab.research.google.com/assets/colab-badge.svg\" alt=\"Open In Colab\"/></a>"
      ]
    },
    {
      "cell_type": "code",
      "metadata": {
        "id": "BcC5XVSYd3qf",
        "colab_type": "code",
        "colab": {}
      },
      "source": [
        "import numpy as np\n",
        "import scipy as sc\n",
        "import matplotlib.pyplot as plt\n",
        "from sklearn.datasets import make_circles"
      ],
      "execution_count": 0,
      "outputs": []
    },
    {
      "cell_type": "code",
      "metadata": {
        "id": "G1k_HSmKerC4",
        "colab_type": "code",
        "colab": {
          "base_uri": "https://localhost:8080/",
          "height": 265
        },
        "outputId": "628bbedc-0818-430c-8b37-7db872ccd645"
      },
      "source": [
        "#CREAR el Dataset\n",
        "\n",
        "#numero de registros {500 personas}\n",
        "n = 500\n",
        "\n",
        "#cuantas caracteristicas hay en este dato. {altura y edad}\n",
        "p = 2\n",
        "\n",
        "X,Y = make_circles(n_samples=n, factor=0.5,noise=0.05)\n",
        "plt.scatter(X[Y==0,0],X[Y==0,1],c=\"skyblue\")\n",
        "plt.scatter(X[Y==1,0],X[Y==1,1],c=\"salmon\")\n",
        "plt.axis(\"equal\")\n",
        "plt.show()"
      ],
      "execution_count": 56,
      "outputs": [
        {
          "output_type": "display_data",
          "data": {
            "image/png": "[encoded data removed]",
            "text/plain": [
              "<Figure size 432x288 with 1 Axes>"
            ]
          },
          "metadata": {
            "tags": []
          }
        }
      ]
    },
    {
      "cell_type": "code",
      "metadata": {
        "id": "uBgOpRtFjKnk",
        "colab_type": "code",
        "colab": {}
      },
      "source": [
        "#clase de la capa de la red\n",
        "class capa_neural():\n",
        "  def __init__(self,n_conexiones,n_neuronas,funcion_activacion):\n",
        "    self.funcion_activacion = funcion_activacion\n",
        "    self.b = np.random.rand(1           ,n_neuronas) * 2 - 1\n",
        "    self.w = np.random.rand(n_conexiones,n_neuronas) * 2 - 1\n"
      ],
      "execution_count": 0,
      "outputs": []
    },
    {
      "cell_type": "code",
      "metadata": {
        "id": "AtCRimIpkE9z",
        "colab_type": "code",
        "colab": {
          "base_uri": "https://localhost:8080/",
          "height": 265
        },
        "outputId": "6070d9b3-1544-4e9e-b3c3-aab257f0251d"
      },
      "source": [
        "#funciones de activacion\n",
        "\n",
        "#0 funcion sigmoide\n",
        "#1 derivada de la funcion\n",
        "sign = (lambda x: 1/(1 + np.e ** (-x)),\n",
        "        lambda x: x * (1 - x));\n",
        "\n",
        "#function relu\n",
        "relu = lambda x: np.maximum(0,x);\n",
        "\n",
        "\n",
        "_x = np.linspace(-5,5,100);\n",
        "plt.plot(_x,sign[1](_x));"
      ],
      "execution_count": 58,
      "outputs": [
        {
          "output_type": "display_data",
          "data": {
            "image/png": "[encoded data removed]",
            "text/plain": [
              "<Figure size 432x288 with 1 Axes>"
            ]
          },
          "metadata": {
            "tags": []
          }
        }
      ]
    },
    {
      "cell_type": "code",
      "metadata": {
        "id": "PYqW453Yqt5S",
        "colab_type": "code",
        "colab": {}
      },
      "source": [
        "##l0 = capa_neural(p,4,sign);\n",
        "##l1 = capa_neural(4,8,sign);\n",
        "#...\n",
        "\n",
        "def crear_red_reural(topologia,funcion_activacion):\n",
        "  nn = [];\n",
        "  for i, layer in enumerate(topologia[:-1]):\n",
        "    nn.append(capa_neural(topologia[i],topologia[i+1],funcion_activacion));\n",
        "  return nn;\n"
      ],
      "execution_count": 0,
      "outputs": []
    },
    {
      "cell_type": "code",
      "metadata": {
        "id": "j5NTlBYc9hpT",
        "colab_type": "code",
        "colab": {
          "base_uri": "https://localhost:8080/",
          "height": 54
        },
        "outputId": "8a698e9b-f9e6-48e0-c1a1-742cab2e2917"
      },
      "source": [
        "topologia = [p,4,8,16,8,4,1];\n",
        "neural_net = crear_red_reural(topologia,sign);\n",
        "print(neural_net)"
      ],
      "execution_count": 68,
      "outputs": [
        {
          "output_type": "stream",
          "text": [
            "[<__main__.capa_neural object at 0x7feeec93a128>, <__main__.capa_neural object at 0x7feeec93a1d0>, <__main__.capa_neural object at 0x7feeec93a208>, <__main__.capa_neural object at 0x7feeec93a240>, <__main__.capa_neural object at 0x7feeec93a278>, <__main__.capa_neural object at 0x7feeec93a2b0>]\n"
          ],
          "name": "stdout"
        }
      ]
    },
    {
      "cell_type": "code",
      "metadata": {
        "id": "zSj1esW89y3C",
        "colab_type": "code",
        "colab": {}
      },
      "source": [
        "funcion_coste = (lambda Yp,Yr: np.mean((Yp -Yr) ** 2),\n",
        "                 lambda Yp, Yr: (Yp - Yr));"
      ],
      "execution_count": 0,
      "outputs": []
    },
    {
      "cell_type": "code",
      "metadata": {
        "id": "nSL1m-jFv76M",
        "colab_type": "code",
        "colab": {
          "base_uri": "https://localhost:8080/",
          "height": 357
        },
        "outputId": "41d940f2-3e09-4f97-805f-8c3f76bacea5"
      },
      "source": [
        "def entrenamiento(neural_net,X,Y,funcion_coste,lr = 0.5,entrenar=True):  \n",
        "  #forward pass\n",
        "  out = [(None,X)];\n",
        "  for i, layer in enumerate(neural_net):\n",
        "    z = out[-1][1] @ neural_net[i].w + neural_net[i].b;\n",
        "    a = neural_net[i].funcion_activacion[0](z);\n",
        "    out.append((z,a));\n",
        "  \n",
        "  print(funcion_coste[0](out[-1][1],Y))\n",
        "\n",
        "  if entrenar:\n",
        "    #backward pass\n",
        "    deltas = []\n",
        "    for i in reversed(range(0, len(neural_net) )):\n",
        "      z = out[i+1][0];\n",
        "      a = out[i+1][1];\n",
        "\n",
        "      print(a.shape)\n",
        "      if i == len(neural_net) -1:\n",
        "        #calcular delta ultima capa\n",
        "        deltas.insert(0,funcion_coste[1](a,Y) * neural_net[i].funcion_activacion[1](a))\n",
        "      else:\n",
        "        deltas.insert(0,deltas[0] @ neural_net[i+1].w * neural_net[i].funcion_activacion[1](a))\n",
        "\n",
        "      print(deltas)\n",
        "      #gradiente descent\n",
        "      neural_net[i].b = neural_net[i].b - np.mean(deltas[0],axis=)\n",
        "\n",
        "\n",
        "\n",
        "entrenamiento(neural_net,X,Y,funcion_coste,lr = 0.5);\n"
      ],
      "execution_count": 77,
      "outputs": [
        {
          "output_type": "stream",
          "text": [
            "0.2505450662376172\n",
            "(500, 1)\n",
            "(500, 4)\n",
            "(500, 8)\n",
            "(500, 16)\n",
            "(500, 8)\n",
            "(500, 4)\n",
            "[array([[ 0.11878034, -0.13065324, -0.13065324, ..., -0.13065324,\n",
            "         0.11878034,  0.11878034],\n",
            "       [ 0.11895293, -0.13051046, -0.13051046, ..., -0.13051046,\n",
            "         0.11895293,  0.11895293],\n",
            "       [ 0.11897346, -0.13049343, -0.13049343, ..., -0.13049343,\n",
            "         0.11897346,  0.11897346],\n",
            "       ...,\n",
            "       [ 0.11893071, -0.13052889, -0.13052889, ..., -0.13052889,\n",
            "         0.11893071,  0.11893071],\n",
            "       [ 0.11877538, -0.13065733, -0.13065733, ..., -0.13065733,\n",
            "         0.11877538,  0.11877538],\n",
            "       [ 0.11903735, -0.13044036, -0.13044036, ..., -0.13044036,\n",
            "         0.11903735,  0.11903735]])]\n"
          ],
          "name": "stdout"
        }
      ]
    },
    {
      "cell_type": "code",
      "metadata": {
        "id": "3aSpyIeF_fRh",
        "colab_type": "code",
        "colab": {}
      },
      "source": [
        ""
      ],
      "execution_count": 0,
      "outputs": []
    }
  ]
}