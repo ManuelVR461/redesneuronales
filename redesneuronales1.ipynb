{
  "nbformat": 4,
  "nbformat_minor": 0,
  "metadata": {
    "colab": {
      "name": "redesneuronales1.ipynb",
      "provenance": [],
      "collapsed_sections": [],
      "authorship_tag": "ABX9TyMC/X/2wqdxkD7ntaKzid55",
      "include_colab_link": true
    },
    "kernelspec": {
      "name": "python3",
      "display_name": "Python 3"
    }
  },
  "cells": [
    {
      "cell_type": "markdown",
      "metadata": {
        "id": "view-in-github",
        "colab_type": "text"
      },
      "source": [
        "<a href=\"https://colab.research.google.com/github/ManuelVR461/redesneuronales/blob/master/redesneuronales1.ipynb\" target=\"_parent\"><img src=\"https://colab.research.google.com/assets/colab-badge.svg\" alt=\"Open In Colab\"/></a>"
      ]
    },
    {
      "cell_type": "code",
      "metadata": {
        "id": "BcC5XVSYd3qf",
        "colab_type": "code",
        "colab": {}
      },
      "source": [
        "import numpy as np\n",
        "import scipy as sc\n",
        "import matplotlib.pyplot as plt\n",
        "from sklearn.datasets import make_circles"
      ],
      "execution_count": 0,
      "outputs": []
    },
    {
      "cell_type": "code",
      "metadata": {
        "id": "G1k_HSmKerC4",
        "colab_type": "code",
        "outputId": "7d4284c0-eb64-48ab-bb5c-d01b18442c24",
        "colab": {
          "base_uri": "https://localhost:8080/",
          "height": 34
        }
      },
      "source": [
        "#CREAR el Dataset\n",
        "\n",
        "#numero de registros {500 personas}\n",
        "n = 500\n",
        "\n",
        "#cuantas caracteristicas hay en este dato. {altura y edad}\n",
        "p = 2\n",
        "\n",
        "X,Y = make_circles(n_samples=n, factor=0.5,noise=0.05)\n",
        "\n",
        "Y = Y[:,np.newaxis];\n",
        "\n",
        "print(Y.shape)"
      ],
      "execution_count": 2,
      "outputs": [
        {
          "output_type": "stream",
          "text": [
            "(500, 1)\n"
          ],
          "name": "stdout"
        }
      ]
    },
    {
      "cell_type": "code",
      "metadata": {
        "id": "piEEeNzjqMyR",
        "colab_type": "code",
        "outputId": "7d26cf27-844a-4a34-ed1d-f449e9eace68",
        "colab": {
          "base_uri": "https://localhost:8080/",
          "height": 264
        }
      },
      "source": [
        "plt.scatter(X[Y[:,0]==0,0],X[Y[:,0]==0,1],c=\"skyblue\")\n",
        "plt.scatter(X[Y[:,0]==1,0],X[Y[:,0]==1,1],c=\"salmon\")\n",
        "plt.axis(\"equal\")\n",
        "plt.show()"
      ],
      "execution_count": 3,
      "outputs": [
        {
          "output_type": "display_data",
          "data": {
            "image/png": "[encoded data removed]",
            "text/plain": [
              "<Figure size 432x288 with 1 Axes>"
            ]
          },
          "metadata": {
            "tags": []
          }
        }
      ]
    },
    {
      "cell_type": "code",
      "metadata": {
        "id": "uBgOpRtFjKnk",
        "colab_type": "code",
        "colab": {}
      },
      "source": [
        "#clase de la capa de la red\n",
        "class capa_neural():\n",
        "\n",
        "  def __init__(self,n_conexiones,n_neuronas,funcion_activacion):\n",
        "\n",
        "    self.funcion_activacion = funcion_activacion;\n",
        "\n",
        "    self.b = np.random.rand(1,n_neuronas) * 2 - 1;\n",
        "    self.w = np.random.rand(n_conexiones,n_neuronas) * 2 - 1;\n"
      ],
      "execution_count": 0,
      "outputs": []
    },
    {
      "cell_type": "code",
      "metadata": {
        "id": "AtCRimIpkE9z",
        "colab_type": "code",
        "outputId": "3c7052d2-b9ea-446e-932d-36ef6be3656b",
        "colab": {
          "base_uri": "https://localhost:8080/",
          "height": 264
        }
      },
      "source": [
        "#funciones de activacion\n",
        "\n",
        "#0 funcion sigmoide\n",
        "#1 derivada de la funcion\n",
        "sigm = (lambda x: 1/(1 + np.e ** (-x)),\n",
        "        lambda x: x * (1 - x));\n",
        "\n",
        "#function relu\n",
        "relu = lambda x: np.maximum(0,x);\n",
        "\n",
        "\n",
        "_x = np.linspace(-5,5,100);\n",
        "plt.plot(_x,relu(_x));"
      ],
      "execution_count": 5,
      "outputs": [
        {
          "output_type": "display_data",
          "data": {
            "image/png": "[encoded data removed]",
            "text/plain": [
              "<Figure size 432x288 with 1 Axes>"
            ]
          },
          "metadata": {
            "tags": []
          }
        }
      ]
    },
    {
      "cell_type": "code",
      "metadata": {
        "id": "PYqW453Yqt5S",
        "colab_type": "code",
        "colab": {}
      },
      "source": [
        "##l0 = capa_neural(p,4,sign);\n",
        "##l1 = capa_neural(4,8,sign);\n",
        "#...\n",
        "\n",
        "def crear_red_reural(topologia,funcion_activacion):\n",
        "\n",
        "  nn = [];\n",
        "\n",
        "  for i, layer in enumerate(topologia[:-1]):\n",
        "\n",
        "    nn.append(capa_neural(topologia[i],topologia[i+1],funcion_activacion));\n",
        "    \n",
        "  return nn;\n"
      ],
      "execution_count": 0,
      "outputs": []
    },
    {
      "cell_type": "code",
      "metadata": {
        "id": "j5NTlBYc9hpT",
        "colab_type": "code",
        "outputId": "14b06e9c-486a-476e-e09a-c01632b313b0",
        "colab": {
          "base_uri": "https://localhost:8080/",
          "height": 34
        }
      },
      "source": [
        "# FUNCION DE ENTRENAMIENTO\n",
        "\n",
        "topologia = [p,4,8,1];\n",
        "\n",
        "neural_net = crear_red_reural(topologia,sigm);\n",
        "\n",
        "print(neural_net)"
      ],
      "execution_count": 7,
      "outputs": [
        {
          "output_type": "stream",
          "text": [
            "[<__main__.capa_neural object at 0x7f7675ac0a58>, <__main__.capa_neural object at 0x7f7675ac0198>, <__main__.capa_neural object at 0x7f7675ac0fd0>]\n"
          ],
          "name": "stdout"
        }
      ]
    },
    {
      "cell_type": "code",
      "metadata": {
        "id": "zSj1esW89y3C",
        "colab_type": "code",
        "colab": {}
      },
      "source": [
        "funcion_coste = (lambda Yp,Yr: np.mean((Yp -Yr) ** 2),\n",
        "                 lambda Yp, Yr: (Yp - Yr));"
      ],
      "execution_count": 0,
      "outputs": []
    },
    {
      "cell_type": "code",
      "metadata": {
        "id": "nSL1m-jFv76M",
        "colab_type": "code",
        "outputId": "762d0dc8-cafa-4f6b-8fd3-34644939aeb6",
        "colab": {
          "base_uri": "https://localhost:8080/",
          "height": 34
        }
      },
      "source": [
        "def entrenamiento(neural_net,X,Y,funcion_coste,lr = 0.5,entrenar=True):  \n",
        "\n",
        "  #forward pass\n",
        "  out = [(None,X)];\n",
        "  for i, layer in enumerate(neural_net):\n",
        "\n",
        "    z = out[-1][1] @ neural_net[i].w + neural_net[i].b;\n",
        "    a = neural_net[i].funcion_activacion[0](z);\n",
        "\n",
        "    out.append((z,a));\n",
        "\n",
        "  #print(funcion_coste[0](out[-1][1],Y))\n",
        "\n",
        "  if entrenar:\n",
        "\n",
        "    #backward pass\n",
        "    deltas = [];\n",
        "\n",
        "    for i in reversed(range(0, len(neural_net) )):\n",
        "\n",
        "      z = out[i+1][0];\n",
        "      a = out[i+1][1];\n",
        "\n",
        "      #print(a.shape)\n",
        "\n",
        "      if i == len(neural_net) - 1:\n",
        "        #calcular delta ultima capa\n",
        "        deltas.insert(0, funcion_coste[1](a,Y) * neural_net[i].funcion_activacion[1](a))\n",
        "      else:\n",
        "        deltas.insert(0, deltas[0] @ _w.T * neural_net[i].funcion_activacion[1](a));\n",
        "        \n",
        "      #print(deltas)\n",
        "      _w = neural_net[i].w\n",
        "\n",
        "      #gradiente descent\n",
        "      neural_net[i].b = neural_net[i].b - np.mean(deltas[0],axis=0,keepdims=True) * lr;\n",
        "      #print(deltas[0].shape);\n",
        "      neural_net[i].w = neural_net[i].w - out[i][1].T @ deltas[0] * lr;\n",
        "      \n",
        "\n",
        "  return out[-1][1];\n",
        "print(\"\")\n",
        "#entrenamiento(neural_net, X, Y, funcion_coste, 0.5);\n"
      ],
      "execution_count": 10,
      "outputs": [
        {
          "output_type": "stream",
          "text": [
            "\n"
          ],
          "name": "stdout"
        }
      ]
    },
    {
      "cell_type": "code",
      "metadata": {
        "id": "3aSpyIeF_fRh",
        "colab_type": "code",
        "outputId": "192180a8-a49e-4d9d-95cc-3d4ce77b6b43",
        "colab": {
          "base_uri": "https://localhost:8080/",
          "height": 516
        }
      },
      "source": [
        "# VISUALIZACIÓN Y TEST\n",
        "\n",
        "import time\n",
        "from IPython.display import clear_output\n",
        "\n",
        "neural_net = crear_red_reural(topologia, sigm)\n",
        "\n",
        "loss = []\n",
        "\n",
        "for i in range(2500):\n",
        "    \n",
        "  # Entrenemos a la red!\n",
        "  pY = entrenamiento(neural_net, X, Y, funcion_coste, lr=0.05)\n",
        "  \n",
        "  if i % 25 == 0:\n",
        "    \n",
        "    #print(pY)\n",
        "  \n",
        "    loss.append(funcion_coste[0](pY, Y))\n",
        "  \n",
        "    res = 50\n",
        "\n",
        "    _x0 = np.linspace(-1.5, 1.5, res)\n",
        "    _x1 = np.linspace(-1.5, 1.5, res)\n",
        "\n",
        "    _Y = np.zeros((res, res))\n",
        "\n",
        "    for i0, x0 in enumerate(_x0):\n",
        "      for i1, x1 in enumerate(_x1):\n",
        "        _Y[i0, i1] = entrenamiento(neural_net, np.array([[x0, x1]]), Y, funcion_coste, entrenar=False)[0][0]    \n",
        "\n",
        "    plt.pcolormesh(_x0, _x1, _Y, cmap=\"coolwarm\")\n",
        "    plt.axis(\"equal\")\n",
        "\n",
        "    plt.scatter(X[Y[:,0] == 0, 0], X[Y[:,0] == 0, 1], c=\"skyblue\")\n",
        "    plt.scatter(X[Y[:,0] == 1, 0], X[Y[:,0] == 1, 1], c=\"salmon\")\n",
        "\n",
        "    clear_output(wait=True)\n",
        "    plt.show()\n",
        "    plt.plot(range(len(loss)), loss)\n",
        "    plt.show()\n",
        "    time.sleep(0.5) "
      ],
      "execution_count": 11,
      "outputs": [
        {
          "output_type": "display_data",
          "data": {
            "image/png": "[encoded data removed]",
            "text/plain": [
              "<Figure size 432x288 with 1 Axes>"
            ]
          },
          "metadata": {
            "tags": []
          }
        },
        {
          "output_type": "display_data",
          "data": {
            "image/png": "[encoded data removed]",
            "text/plain": [
              "<Figure size 432x288 with 1 Axes>"
            ]
          },
          "metadata": {
            "tags": []
          }
        }
      ]
    }
  ]
}